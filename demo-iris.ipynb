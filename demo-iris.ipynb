{
 "cells": [
  {
   "cell_type": "markdown",
   "metadata": {
    "collapsed": true,
    "pycharm": {
     "name": "#%% md\n"
    }
   },
   "source": [
    "# Demo\n",
    "\n",
    "Injection of first order logic rules into a neural network for iris classification task.\n",
    "\n",
    "Download antlr4 jar and create parser for Datalog.g4 grammar."
   ]
  },
  {
   "cell_type": "code",
   "source": [
    "! wget https://www.antlr.org/download/antlr-4.9.2-complete.jar\n",
    "! export CLASSPATH=\"./antlr-4.9.2-complete.jar:$CLASSPATH\"\n",
    "! java -jar ./antlr-4.9.2-complete.jar -Dlanguage=Python3 resources/Datalog.g4 -visitor -o resources/dist\n",
    "! rm ./antlr-4.9.2-complete.jar"
   ],
   "metadata": {
    "collapsed": false,
    "pycharm": {
     "name": "#%%\n"
    }
   },
   "execution_count": 1,
   "outputs": [
    {
     "name": "stdout",
     "output_type": "stream",
     "text": [
      "--2022-03-08 09:21:56--  https://www.antlr.org/download/antlr-4.9.2-complete.jar\r\n",
      "Resolving www.antlr.org (www.antlr.org)... 185.199.111.153, 185.199.108.153, 185.199.110.153, ...\r\n",
      "Connecting to www.antlr.org (www.antlr.org)|185.199.111.153|:443... connected.\r\n",
      "HTTP request sent, awaiting response... 200 OK\r\n",
      "Length: 2100564 (2.0M) [application/java-archive]\r\n",
      "Saving to: ‘antlr-4.9.2-complete.jar’\r\n",
      "\r\n",
      "antlr-4.9.2-complet 100%[===================>]   2.00M  13.1MB/s    in 0.2s    \r\n",
      "\r\n",
      "2022-03-08 09:21:56 (13.1 MB/s) - ‘antlr-4.9.2-complete.jar’ saved [2100564/2100564]\r\n",
      "\r\n"
     ]
    }
   ]
  },
  {
   "cell_type": "markdown",
   "source": [
    "Some import."
   ],
   "metadata": {
    "collapsed": false,
    "pycharm": {
     "name": "#%% md\n"
    }
   }
  },
  {
   "cell_type": "code",
   "execution_count": 2,
   "outputs": [],
   "source": [
    "from antlr4 import InputStream, CommonTokenStream\n",
    "from tensorflow.keras import Input, Model\n",
    "from tensorflow.keras.optimizers import Adam\n",
    "from tensorflow.python.framework.random_seed import set_random_seed\n",
    "from sklearn.datasets import load_iris\n",
    "from sklearn.model_selection import train_test_split\n",
    "from sklearn.preprocessing import OneHotEncoder\n",
    "from psyki.logic.datalog.grammar.adapters import Antlr4\n",
    "from resources.dist.resources.DatalogLexer import DatalogLexer\n",
    "from resources.dist.resources.DatalogParser import DatalogParser\n",
    "from psyki.ski.injectors import LambdaLayer\n",
    "from test.utils import get_mlp\n",
    "from test.resources.rules import get_rules"
   ],
   "metadata": {
    "collapsed": false,
    "pycharm": {
     "name": "#%%\n"
    }
   }
  },
  {
   "cell_type": "markdown",
   "source": [
    "Loading iris dataset and separation into train and test set."
   ],
   "metadata": {
    "collapsed": false
   }
  },
  {
   "cell_type": "code",
   "execution_count": 3,
   "outputs": [
    {
     "data": {
      "text/plain": "     sepal length (cm)  sepal width (cm)  petal length (cm)  petal width (cm)  \\\n3                  4.6               3.1                1.5               0.2   \n149                5.9               3.0                5.1               1.8   \n98                 5.1               2.5                3.0               1.1   \n6                  4.6               3.4                1.4               0.3   \n68                 6.2               2.2                4.5               1.5   \n..                 ...               ...                ...               ...   \n9                  4.9               3.1                1.5               0.1   \n103                6.3               2.9                5.6               1.8   \n67                 5.8               2.7                4.1               1.0   \n117                7.7               3.8                6.7               2.2   \n47                 4.6               3.2                1.4               0.2   \n\n     target  \n3         0  \n149       2  \n98        1  \n6         0  \n68        1  \n..      ...  \n9         0  \n103       2  \n67        1  \n117       2  \n47        0  \n\n[75 rows x 5 columns]",
      "text/html": "<div>\n<style scoped>\n    .dataframe tbody tr th:only-of-type {\n        vertical-align: middle;\n    }\n\n    .dataframe tbody tr th {\n        vertical-align: top;\n    }\n\n    .dataframe thead th {\n        text-align: right;\n    }\n</style>\n<table border=\"1\" class=\"dataframe\">\n  <thead>\n    <tr style=\"text-align: right;\">\n      <th></th>\n      <th>sepal length (cm)</th>\n      <th>sepal width (cm)</th>\n      <th>petal length (cm)</th>\n      <th>petal width (cm)</th>\n      <th>target</th>\n    </tr>\n  </thead>\n  <tbody>\n    <tr>\n      <th>3</th>\n      <td>4.6</td>\n      <td>3.1</td>\n      <td>1.5</td>\n      <td>0.2</td>\n      <td>0</td>\n    </tr>\n    <tr>\n      <th>149</th>\n      <td>5.9</td>\n      <td>3.0</td>\n      <td>5.1</td>\n      <td>1.8</td>\n      <td>2</td>\n    </tr>\n    <tr>\n      <th>98</th>\n      <td>5.1</td>\n      <td>2.5</td>\n      <td>3.0</td>\n      <td>1.1</td>\n      <td>1</td>\n    </tr>\n    <tr>\n      <th>6</th>\n      <td>4.6</td>\n      <td>3.4</td>\n      <td>1.4</td>\n      <td>0.3</td>\n      <td>0</td>\n    </tr>\n    <tr>\n      <th>68</th>\n      <td>6.2</td>\n      <td>2.2</td>\n      <td>4.5</td>\n      <td>1.5</td>\n      <td>1</td>\n    </tr>\n    <tr>\n      <th>...</th>\n      <td>...</td>\n      <td>...</td>\n      <td>...</td>\n      <td>...</td>\n      <td>...</td>\n    </tr>\n    <tr>\n      <th>9</th>\n      <td>4.9</td>\n      <td>3.1</td>\n      <td>1.5</td>\n      <td>0.1</td>\n      <td>0</td>\n    </tr>\n    <tr>\n      <th>103</th>\n      <td>6.3</td>\n      <td>2.9</td>\n      <td>5.6</td>\n      <td>1.8</td>\n      <td>2</td>\n    </tr>\n    <tr>\n      <th>67</th>\n      <td>5.8</td>\n      <td>2.7</td>\n      <td>4.1</td>\n      <td>1.0</td>\n      <td>1</td>\n    </tr>\n    <tr>\n      <th>117</th>\n      <td>7.7</td>\n      <td>3.8</td>\n      <td>6.7</td>\n      <td>2.2</td>\n      <td>2</td>\n    </tr>\n    <tr>\n      <th>47</th>\n      <td>4.6</td>\n      <td>3.2</td>\n      <td>1.4</td>\n      <td>0.2</td>\n      <td>0</td>\n    </tr>\n  </tbody>\n</table>\n<p>75 rows × 5 columns</p>\n</div>"
     },
     "execution_count": 3,
     "metadata": {},
     "output_type": "execute_result"
    }
   ],
   "source": [
    "x, y = load_iris(return_X_y=True, as_frame=True)\n",
    "encoder = OneHotEncoder(sparse=False)\n",
    "encoder.fit_transform([y])\n",
    "dataset = x.join(y)\n",
    "\n",
    "train, test = train_test_split(dataset, test_size=0.5, random_state=0)\n",
    "train"
   ],
   "metadata": {
    "collapsed": false,
    "pycharm": {
     "name": "#%%\n"
    }
   }
  },
  {
   "cell_type": "markdown",
   "source": [
    "Import Datalog rules:\n",
    "\n",
    "- PL <= 2.28 <- X = setosa\n",
    "- PL > 2.28 ^ PW > 1.64 <- X = virginica\n",
    "- PL > 2.28 ^ PW <= 1.64 <- X = versicolor"
   ],
   "metadata": {
    "collapsed": false
   }
  },
  {
   "cell_type": "code",
   "execution_count": 4,
   "outputs": [],
   "source": [
    "features_mapping = {\n",
    "    'SL': 0,\n",
    "    'SW': 1,\n",
    "    'PL': 2,\n",
    "    'PW': 3,\n",
    "}\n",
    "class_mapping = {\n",
    "    'setosa': 0,\n",
    "    'virginica': 1,\n",
    "    'versicolor': 2\n",
    "}\n",
    "\n",
    "iris_rules = get_rules('iris')\n",
    "formulae = [Antlr4().get_formula(DatalogParser(CommonTokenStream(DatalogLexer(InputStream(rule)))).formula()) for rule in iris_rules]"
   ],
   "metadata": {
    "collapsed": false,
    "pycharm": {
     "name": "#%%\n"
    }
   }
  },
  {
   "cell_type": "markdown",
   "source": [
    "Injection of fuzzy logic function derived from FOL rules into a neural network."
   ],
   "metadata": {
    "collapsed": false
   }
  },
  {
   "cell_type": "code",
   "execution_count": 5,
   "outputs": [
    {
     "name": "stdout",
     "output_type": "stream",
     "text": [
      "Model: \"model_1\"\n",
      "__________________________________________________________________________________________________\n",
      "Layer (type)                    Output Shape         Param #     Connected to                     \n",
      "==================================================================================================\n",
      "Input (InputLayer)              [(None, 4)]          0                                            \n",
      "__________________________________________________________________________________________________\n",
      "dense (Dense)                   (None, 16)           80          Input[0][0]                      \n",
      "__________________________________________________________________________________________________\n",
      "dense_1 (Dense)                 (None, 16)           272         dense[0][0]                      \n",
      "__________________________________________________________________________________________________\n",
      "dense_2 (Dense)                 (None, 3)            51          dense_1[0][0]                    \n",
      "__________________________________________________________________________________________________\n",
      "concatenate (Concatenate)       (None, 7)            0           Input[0][0]                      \n",
      "                                                                 dense_2[0][0]                    \n",
      "__________________________________________________________________________________________________\n",
      "lambda (Lambda)                 (None, 3)            0           concatenate[0][0]                \n",
      "==================================================================================================\n",
      "Total params: 403\n",
      "Trainable params: 403\n",
      "Non-trainable params: 0\n",
      "__________________________________________________________________________________________________\n"
     ]
    }
   ],
   "source": [
    "set_random_seed(0)\n",
    "input_features = Input((4,), name='Input')\n",
    "network = get_mlp(input_layer=input_features, output=3, layers=3, neurons=16, activation_function='relu', last_activation_function='softmax')\n",
    "model = Model(input_features, network)\n",
    "injector = LambdaLayer(model, class_mapping, features_mapping)\n",
    "injector.inject(formulae)\n",
    "injector.predictor.compile(optimizer=Adam(), loss='sparse_categorical_crossentropy', metrics=['accuracy'])\n",
    "injector.predictor.summary()"
   ],
   "metadata": {
    "collapsed": false,
    "pycharm": {
     "name": "#%%\n"
    }
   }
  },
  {
   "cell_type": "markdown",
   "source": [
    "Training."
   ],
   "metadata": {
    "collapsed": false
   }
  },
  {
   "cell_type": "code",
   "execution_count": 6,
   "outputs": [
    {
     "name": "stdout",
     "output_type": "stream",
     "text": [
      "Epoch 1/50\n"
     ]
    },
    {
     "name": "stderr",
     "output_type": "stream",
     "text": [
      "2022-03-08 09:22:01.266417: I tensorflow/compiler/mlir/mlir_graph_optimization_pass.cc:185] None of the MLIR Optimization Passes are enabled (registered 2)\n",
      "2022-03-08 09:22:01.269207: W tensorflow/core/platform/profile_utils/cpu_utils.cc:128] Failed to get CPU frequency: 0 Hz\n"
     ]
    },
    {
     "name": "stdout",
     "output_type": "stream",
     "text": [
      "19/19 [==============================] - 0s 583us/step - loss: 1.1713 - accuracy: 0.4000\n",
      "Epoch 2/50\n",
      "19/19 [==============================] - 0s 555us/step - loss: 0.8142 - accuracy: 0.7867\n",
      "Epoch 3/50\n",
      "19/19 [==============================] - 0s 627us/step - loss: 0.5606 - accuracy: 0.9333\n",
      "Epoch 4/50\n",
      "19/19 [==============================] - 0s 560us/step - loss: 0.3992 - accuracy: 0.9467\n",
      "Epoch 5/50\n",
      "19/19 [==============================] - 0s 639us/step - loss: 0.3158 - accuracy: 0.9867\n",
      "Epoch 6/50\n",
      "19/19 [==============================] - 0s 552us/step - loss: 0.2706 - accuracy: 0.9600\n",
      "Epoch 7/50\n",
      "19/19 [==============================] - 0s 567us/step - loss: 0.2499 - accuracy: 0.9467\n",
      "Epoch 8/50\n",
      "19/19 [==============================] - 0s 565us/step - loss: 0.2369 - accuracy: 0.9467\n",
      "Epoch 9/50\n",
      "19/19 [==============================] - 0s 576us/step - loss: 0.2228 - accuracy: 0.9733\n",
      "Epoch 10/50\n",
      "19/19 [==============================] - 0s 596us/step - loss: 0.2142 - accuracy: 0.9600\n",
      "Epoch 11/50\n",
      "19/19 [==============================] - 0s 535us/step - loss: 0.2070 - accuracy: 0.9600\n",
      "Epoch 12/50\n",
      "19/19 [==============================] - 0s 581us/step - loss: 0.1972 - accuracy: 0.9600\n",
      "Epoch 13/50\n",
      "19/19 [==============================] - 0s 560us/step - loss: 0.1936 - accuracy: 0.9600\n",
      "Epoch 14/50\n",
      "19/19 [==============================] - 0s 705us/step - loss: 0.1835 - accuracy: 0.9600\n",
      "Epoch 15/50\n",
      "19/19 [==============================] - 0s 581us/step - loss: 0.1781 - accuracy: 0.9600\n",
      "Epoch 16/50\n",
      "19/19 [==============================] - 0s 573us/step - loss: 0.1730 - accuracy: 0.9733\n",
      "Epoch 17/50\n",
      "19/19 [==============================] - 0s 1ms/step - loss: 0.1656 - accuracy: 0.9733\n",
      "Epoch 18/50\n",
      "19/19 [==============================] - 0s 834us/step - loss: 0.1625 - accuracy: 0.9867\n",
      "Epoch 19/50\n",
      "19/19 [==============================] - 0s 592us/step - loss: 0.1583 - accuracy: 0.9733\n",
      "Epoch 20/50\n",
      "19/19 [==============================] - 0s 608us/step - loss: 0.1535 - accuracy: 0.9600\n",
      "Epoch 21/50\n",
      "19/19 [==============================] - 0s 566us/step - loss: 0.1522 - accuracy: 0.9600\n",
      "Epoch 22/50\n",
      "19/19 [==============================] - 0s 540us/step - loss: 0.1456 - accuracy: 0.9733\n",
      "Epoch 23/50\n",
      "19/19 [==============================] - 0s 517us/step - loss: 0.1446 - accuracy: 0.9733\n",
      "Epoch 24/50\n",
      "19/19 [==============================] - 0s 542us/step - loss: 0.1527 - accuracy: 0.9467\n",
      "Epoch 25/50\n",
      "19/19 [==============================] - 0s 503us/step - loss: 0.1391 - accuracy: 0.9733\n",
      "Epoch 26/50\n",
      "19/19 [==============================] - 0s 573us/step - loss: 0.1315 - accuracy: 0.9600\n",
      "Epoch 27/50\n",
      "19/19 [==============================] - 0s 542us/step - loss: 0.1308 - accuracy: 0.9600\n",
      "Epoch 28/50\n",
      "19/19 [==============================] - 0s 538us/step - loss: 0.1290 - accuracy: 0.9733\n",
      "Epoch 29/50\n",
      "19/19 [==============================] - 0s 537us/step - loss: 0.1324 - accuracy: 0.9467\n",
      "Epoch 30/50\n",
      "19/19 [==============================] - 0s 546us/step - loss: 0.1205 - accuracy: 0.9867\n",
      "Epoch 31/50\n",
      "19/19 [==============================] - 0s 529us/step - loss: 0.1191 - accuracy: 1.0000\n",
      "Epoch 32/50\n",
      "19/19 [==============================] - 0s 540us/step - loss: 0.1240 - accuracy: 0.9600\n",
      "Epoch 33/50\n",
      "19/19 [==============================] - 0s 504us/step - loss: 0.1156 - accuracy: 0.9600\n",
      "Epoch 34/50\n",
      "19/19 [==============================] - 0s 525us/step - loss: 0.1130 - accuracy: 0.9867\n",
      "Epoch 35/50\n",
      "19/19 [==============================] - 0s 543us/step - loss: 0.1083 - accuracy: 0.9867\n",
      "Epoch 36/50\n",
      "19/19 [==============================] - 0s 503us/step - loss: 0.1136 - accuracy: 0.9600\n",
      "Epoch 37/50\n",
      "19/19 [==============================] - 0s 516us/step - loss: 0.1209 - accuracy: 0.9600\n",
      "Epoch 38/50\n",
      "19/19 [==============================] - 0s 501us/step - loss: 0.1048 - accuracy: 0.9867\n",
      "Epoch 39/50\n",
      "19/19 [==============================] - 0s 509us/step - loss: 0.1015 - accuracy: 0.9867\n",
      "Epoch 40/50\n",
      "19/19 [==============================] - 0s 513us/step - loss: 0.1015 - accuracy: 1.0000\n",
      "Epoch 41/50\n",
      "19/19 [==============================] - 0s 533us/step - loss: 0.1041 - accuracy: 0.9600\n",
      "Epoch 42/50\n",
      "19/19 [==============================] - 0s 494us/step - loss: 0.1147 - accuracy: 0.9600\n",
      "Epoch 43/50\n",
      "19/19 [==============================] - 0s 506us/step - loss: 0.0978 - accuracy: 0.9733\n",
      "Epoch 44/50\n",
      "19/19 [==============================] - 0s 559us/step - loss: 0.0932 - accuracy: 1.0000\n",
      "Epoch 45/50\n",
      "19/19 [==============================] - 0s 552us/step - loss: 0.0963 - accuracy: 0.9733\n",
      "Epoch 46/50\n",
      "19/19 [==============================] - 0s 506us/step - loss: 0.0915 - accuracy: 0.9867\n",
      "Epoch 47/50\n",
      "19/19 [==============================] - 0s 527us/step - loss: 0.0911 - accuracy: 0.9733\n",
      "Epoch 48/50\n",
      "19/19 [==============================] - 0s 502us/step - loss: 0.0915 - accuracy: 0.9867\n",
      "Epoch 49/50\n",
      "19/19 [==============================] - 0s 573us/step - loss: 0.0948 - accuracy: 0.9733\n",
      "Epoch 50/50\n",
      "19/19 [==============================] - 0s 503us/step - loss: 0.0968 - accuracy: 0.9733\n"
     ]
    },
    {
     "data": {
      "text/plain": "<tensorflow.python.keras.callbacks.History at 0x1568e02b0>"
     },
     "execution_count": 6,
     "metadata": {},
     "output_type": "execute_result"
    }
   ],
   "source": [
    "train_x, train_y = train.iloc[:,:-1], train.iloc[:,-1]\n",
    "injector.predictor.fit(train_x, train_y, verbose=1, batch_size=4, epochs=50)"
   ],
   "metadata": {
    "collapsed": false,
    "pycharm": {
     "name": "#%%\n"
    }
   }
  },
  {
   "cell_type": "markdown",
   "source": [
    "Removing the injected rules from the network."
   ],
   "metadata": {
    "collapsed": false
   }
  },
  {
   "cell_type": "code",
   "execution_count": 7,
   "outputs": [
    {
     "name": "stdout",
     "output_type": "stream",
     "text": [
      "Model: \"model_2\"\n",
      "_________________________________________________________________\n",
      "Layer (type)                 Output Shape              Param #   \n",
      "=================================================================\n",
      "Input (InputLayer)           [(None, 4)]               0         \n",
      "_________________________________________________________________\n",
      "dense (Dense)                (None, 16)                80        \n",
      "_________________________________________________________________\n",
      "dense_1 (Dense)              (None, 16)                272       \n",
      "_________________________________________________________________\n",
      "dense_2 (Dense)              (None, 3)                 51        \n",
      "=================================================================\n",
      "Total params: 403\n",
      "Trainable params: 403\n",
      "Non-trainable params: 0\n",
      "_________________________________________________________________\n"
     ]
    }
   ],
   "source": [
    "new_network = Model(injector.predictor.input, injector.predictor.layers[-3].output)\n",
    "new_network.compile(optimizer=Adam(), loss='sparse_categorical_crossentropy', metrics=['accuracy'])\n",
    "new_network.summary()"
   ],
   "metadata": {
    "collapsed": false,
    "pycharm": {
     "name": "#%%\n"
    }
   }
  },
  {
   "cell_type": "markdown",
   "source": [
    "Evaluation."
   ],
   "metadata": {
    "collapsed": false
   }
  },
  {
   "cell_type": "code",
   "execution_count": 8,
   "outputs": [
    {
     "name": "stdout",
     "output_type": "stream",
     "text": [
      "3/3 [==============================] - 0s 585us/step - loss: 0.1279 - accuracy: 0.9867\n"
     ]
    },
    {
     "data": {
      "text/plain": "[0.12792348861694336, 0.9866666793823242]"
     },
     "execution_count": 8,
     "metadata": {},
     "output_type": "execute_result"
    }
   ],
   "source": [
    "test_x, test_y = test.iloc[:,:-1], test.iloc[:,-1]\n",
    "new_network.evaluate(test_x, test_y)"
   ],
   "metadata": {
    "collapsed": false,
    "pycharm": {
     "name": "#%%\n"
    }
   }
  }
 ],
 "metadata": {
  "kernelspec": {
   "display_name": "Python 3",
   "language": "python",
   "name": "python3"
  },
  "language_info": {
   "codemirror_mode": {
    "name": "ipython",
    "version": 2
   },
   "file_extension": ".py",
   "mimetype": "text/x-python",
   "name": "python",
   "nbconvert_exporter": "python",
   "pygments_lexer": "ipython2",
   "version": "2.7.6"
  }
 },
 "nbformat": 4,
 "nbformat_minor": 0
}