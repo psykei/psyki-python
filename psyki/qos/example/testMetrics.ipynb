{
 "cells": [
  {
   "cell_type": "code",
   "execution_count": 8,
   "id": "5c24e55f",
   "metadata": {
    "scrolled": true
   },
   "outputs": [],
   "source": [
    "import pandas as pd\n",
    "from resources.data import get_dataset\n",
    "from resources.execution import create_standard_fully_connected_nn\n",
    "from resources.rules import get_rules, FEATURE_MAPPING as POKER_FEATURE_MAPPING, CLASS_MAPPING as POKER_CLASS_MAPPING\n",
    "from psyki.ski import Injector, Formula\n",
    "from psyki.logic.datalog.grammar.adapters import antlr4\n",
    "from latency import LatencyQoS\n"
   ]
  },
  {
   "cell_type": "markdown",
   "id": "7e6f18fd",
   "metadata": {},
   "source": [
    "## From the experiment of KILL \n",
    "https://github.com/MatteoMagnini/kill-experiments-woa-2022"
   ]
  },
  {
   "cell_type": "code",
   "execution_count": 9,
   "id": "724ebe65",
   "metadata": {},
   "outputs": [],
   "source": [
    "data = pd.DataFrame(get_dataset('train'), dtype = 'int32')"
   ]
  },
  {
   "cell_type": "code",
   "execution_count": 10,
   "id": "b9d34712",
   "metadata": {
    "scrolled": false
   },
   "outputs": [
    {
     "name": "stderr",
     "output_type": "stream",
     "text": [
      "2022-10-10 18:40:24.421385: I tensorflow/core/platform/cpu_feature_guard.cc:193] This TensorFlow binary is optimized with oneAPI Deep Neural Network Library (oneDNN) to use the following CPU instructions in performance-critical operations:  AVX2 AVX512F AVX512_VNNI FMA\n",
      "To enable them in other operations, rebuild TensorFlow with the appropriate compiler flags.\n",
      "2022-10-10 18:40:25.168204: I tensorflow/core/common_runtime/gpu/gpu_device.cc:1532] Created device /job:localhost/replica:0/task:0/device:GPU:0 with 6668 MB memory:  -> device: 0, name: Quadro RTX 4000, pci bus id: 0000:17:00.0, compute capability: 7.5\n",
      "2022-10-10 18:40:25.169212: I tensorflow/core/common_runtime/gpu/gpu_device.cc:1532] Created device /job:localhost/replica:0/task:0/device:GPU:1 with 6594 MB memory:  -> device: 1, name: Quadro RTX 4000, pci bus id: 0000:65:00.0, compute capability: 7.5\n"
     ]
    }
   ],
   "source": [
    "model = create_standard_fully_connected_nn(10, 10, 3, 128, 'relu')"
   ]
  },
  {
   "cell_type": "code",
   "execution_count": 11,
   "id": "09cddfa3",
   "metadata": {},
   "outputs": [],
   "source": [
    "injector = Injector.kill(model, POKER_CLASS_MAPPING, POKER_FEATURE_MAPPING)\n"
   ]
  },
  {
   "cell_type": "code",
   "execution_count": 12,
   "id": "37140e73",
   "metadata": {},
   "outputs": [],
   "source": [
    "formulae = [antlr4.get_formula_from_string(rule) for rule in get_rules()]"
   ]
  },
  {
   "cell_type": "raw",
   "id": "4c6b7487",
   "metadata": {},
   "source": []
  },
  {
   "cell_type": "code",
   "execution_count": 13,
   "id": "f549faf5",
   "metadata": {},
   "outputs": [],
   "source": [
    "options = {'optim':'adam',\n",
    "           'loss': 'sparse_categorical_crossentropy',\n",
    "           'batch': 32,\n",
    "           'epochs':2,\n",
    "           'dataset': data,\n",
    "           'formula': formulae}"
   ]
  },
  {
   "cell_type": "code",
   "execution_count": 14,
   "id": "601a1e4f",
   "metadata": {},
   "outputs": [],
   "source": [
    "latency = LatencyQoS(model, injector, options)"
   ]
  },
  {
   "cell_type": "code",
   "execution_count": 15,
   "id": "1f3fd596",
   "metadata": {
    "scrolled": false
   },
   "outputs": [
    {
     "name": "stdout",
     "output_type": "stream",
     "text": [
      "Measuring times of model training. This can take a while as model.fit needs to run...\n",
      "The injected model is 61.29815 seconds slower during training\n",
      "Measuring times of model prediction. This may take a while depending on the model and dataset...\n",
      "The injected model is 2.78592 seconds slower during inference\n"
     ]
    }
   ],
   "source": [
    "latency.measure(fit = True)"
   ]
  },
  {
   "cell_type": "code",
   "execution_count": null,
   "id": "05af627c",
   "metadata": {},
   "outputs": [],
   "source": []
  }
 ],
 "metadata": {
  "kernelspec": {
   "display_name": "Python 3 (ipykernel)",
   "language": "python",
   "name": "python3"
  },
  "language_info": {
   "codemirror_mode": {
    "name": "ipython",
    "version": 3
   },
   "file_extension": ".py",
   "mimetype": "text/x-python",
   "name": "python",
   "nbconvert_exporter": "python",
   "pygments_lexer": "ipython3",
   "version": "3.9.14"
  }
 },
 "nbformat": 4,
 "nbformat_minor": 5
}
